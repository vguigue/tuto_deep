{
 "cells": [
  {
   "cell_type": "markdown",
   "metadata": {
    "id": "_TE2ItlsI956"
   },
   "source": [
    "# Séance 1 :  Deep Learning - Introduction à Pytorch \n",
    "\n",
    "Les notebooks sont très largement inspirés des cours de **N. Baskiotis et B. Piwowarski**. Ils peuvent être complétés efficacement par les tutoriels *officiels* présents sur le site de pytorch:\n",
    "https://pytorch.org/tutorials/\n",
    "\n",
    "Au niveau de la configuration, toutes les installations doivent fonctionner sur Linux et Mac. Pour windows, ça peut marcher avec Anaconda à jour... Mais il est difficile de récupérer les problèmes.\n",
    "\n",
    "* Aide à la configuration des machines: [lien](https://dac.lip6.fr/master/environnement-deep/)\n",
    "* Alternative 1 à Windows: installer Ubuntu sous Windows:  [Ubuntu WSL](https://ubuntu.com/wsl)\n",
    "* Alternative 2: travailler sur Google Colab (il faut un compte gmail + prendre le temps de comprendre comment accéder à des fichers) [Colab](https://colab.research.google.com)"
   ]
  },
  {
   "cell_type": "markdown",
   "metadata": {
    "id": "TAER7frwJu9L"
   },
   "source": [
    "# A. Préambule & syntaxe\n",
    "\n",
    "Les lignes suivantes permettent d'importer pytorch et vérifier si un GPU est disponible."
   ]
  },
  {
   "cell_type": "code",
   "execution_count": null,
   "metadata": {
    "id": "3Y9YOOHHhJKY"
   },
   "outputs": [],
   "source": [
    "import torch\n",
    "print(\"La version de torch est : \",torch.__version__)\n",
    "print(\"Le calcul GPU est disponible ? \", torch.cuda.is_available())\n",
    "\n",
    "# pour les possesseurs de mac M1 avec la dernière version de pytorch:\n",
    "print(\"Le calcul GPU est disponible ? \", torch.backends.mps.is_available())\n",
    "\n",
    "import matplotlib.pyplot as plt\n",
    "import numpy as np\n",
    "import sklearn"
   ]
  },
  {
   "cell_type": "markdown",
   "metadata": {
    "id": "u2LqFo3wzwYP"
   },
   "source": [
    "## Syntaxe\n",
    "\n",
    "Le principal objet manipulé sous Pytorch est **torch.Tensor** qui correspond à un tenseur mathématique (généralisation de la notion de matrice en $n$-dimensions), très proche dans l'utilisation de **numpy.array**.   Cet objet est optimisé pour les calculs sur GPU ce qui implique quelques contraintes plus importantes que sous **numpy**. En particulier :\n",
    "* le type du tenseur manipulé est très important et les conversions ne sont pas automatique (**FloatTensor** de type **torch.float**, **DoubleTensor** de type **torch.double**,  **ByteTensor** de type **torch.byte**, **IntTensor** de type **torch.int**, **LongTensor** de type **torch.long**). Pour un tenseur **t** La conversion se fait très simplement en utilisant les fonctions : **t.double()**, **t.float()**, **t.long()** ...\n",
    "* la plupart des opérations ont une version *inplace*, c'est-à-dire qui modifie le tenseur plutôt que de renvoyer un nouveau tenseur; elles sont suffixées par **_** (**add_** par exemple).\n",
    "\n",
    "Voici ci-dessous quelques exemples d'opérations usuelles, n'hésitez pas à vous référez à la [documentation officielle](https://pytorch.org/docs/stable/tensors.html) pour la liste exhaustive des opérations.\n"
   ]
  },
  {
   "cell_type": "code",
   "execution_count": null,
   "metadata": {
    "cellView": "code",
    "id": "VZxNfy1b1u43"
   },
   "outputs": [],
   "source": [
    "# Création de tenseurs et caractéristiques\n",
    "## Créer un tenseur à partir d'une liste\n",
    "print(torch.tensor([[1.,2.,3.],[2.,3,4.]])) \n",
    "## Créer un tenseur  tenseur rempli de 1 de taille 2x3x4\n",
    "print(torch.ones(2,3,4)) \n",
    "## tenseur de zéros de taille 2x3 de type float\n",
    "print(torch.zeros(2,3,dtype=torch.float))  \n"
   ]
  },
  {
   "cell_type": "code",
   "execution_count": null,
   "metadata": {},
   "outputs": [],
   "source": [
    "# L'opération inverse (tenseur => Structure python)\n",
    "a = torch.ones(2,3)\n",
    "print(a,\"=>\",a.tolist())\n",
    "b=a.sum()\n",
    "print(b,\"=>\",b.item())\n"
   ]
  },
  {
   "cell_type": "code",
   "execution_count": null,
   "metadata": {},
   "outputs": [],
   "source": [
    "\n",
    "## tirage uniforme entier entre 10 et 15, \n",
    "## remarquez l'utilisation du _ dans random pour l'opération inplace\n",
    "print(torch.zeros(2,3).random_(10,15)) \n",
    "## tirage suivant la loi normale\n",
    "a=torch.zeros(2,3).normal_(1,0.1)\n",
    "print(a)\n",
    "## equivalent à zeros(3,4).normal_\n",
    "b = torch.randn(3,4) \n",
    "## Création d'un vecteur\n",
    "c = torch.randn(3)"
   ]
  },
  {
   "cell_type": "code",
   "execution_count": null,
   "metadata": {},
   "outputs": [],
   "source": [
    "\n",
    "## concatenation de tenseurs\n",
    "print(torch.cat((a,a),1))\n",
    "## Taille des tenseurs/vecteurs shape => size\n",
    "print(a.size(1),b.shape,c.size())\n",
    "## Conversion de type\n",
    "print(a.int(),a.int().type())"
   ]
  },
  {
   "cell_type": "code",
   "execution_count": null,
   "metadata": {},
   "outputs": [],
   "source": [
    "\n",
    "# Opérations élémentaires sur les tenseurs \n",
    "## produit scalaire (et contrairement à numpy, que produit scalaire)\n",
    "print(c.dot(c))\n",
    "## produit matriciel : utilisation de @ ou de la fonction mm\n",
    "print(\"prod mat: \", a.mm(b), a @ b)\n",
    "## transposé\n",
    "print(\"transpose :\", a.t(),a.T)\n",
    "## index du maximum selon une dimension\n",
    "print(\"argmax : \",a.argmax(dim=1))\n",
    "## somme selon une dimension/de tous les éléments\n",
    "print(\"sum: \", b.sum(1), b.sum()) \n",
    "## moyenne selon  une dimension/sur tous les éléments\n",
    "print(\"mean: \", b.mean(1), b.mean())"
   ]
  },
  {
   "cell_type": "code",
   "execution_count": null,
   "metadata": {},
   "outputs": [],
   "source": [
    "## ATTENTION: la spécificité et les capacités des tenseurs empêchent les conversions à la volée\n",
    "# ce qui marchait en numpy ne marche plus en torch\n",
    "\n",
    "print(a@[[1], [1], [1]])    # ERREUR de type (même résultat avec n'importe quelle opération)\n",
    "print(a*2)                  # OK pour un scalaire\n",
    "print(a*[2.,2.,2.])         # ERREUR de type"
   ]
  },
  {
   "cell_type": "code",
   "execution_count": null,
   "metadata": {},
   "outputs": [],
   "source": [
    "\n",
    "## somme/produit/puissance termes a termes\n",
    "print(\"a\",a)\n",
    "print(\"a+a\",a+a)\n",
    "print(\"a*a\",a*a)\n",
    "print(\"a**2\",a**2)\n"
   ]
  },
  {
   "cell_type": "markdown",
   "metadata": {},
   "source": [
    "Avant d'exécuter la boite suivante, prédire les dimensions des résultats"
   ]
  },
  {
   "cell_type": "code",
   "execution_count": null,
   "metadata": {},
   "outputs": [],
   "source": [
    "\n",
    "## attention ! comme sous numpy, il peut y avoir des pièges ! \n",
    "## Vérifier toujours les dimensions !!\n",
    "a = torch.ones(5,1)*2\n",
    "b = torch.ones(5)\n",
    "\n",
    "## la première opération fait un broadcast et le résultat est tenseur à 2 dimensiosn,\n",
    "## le résultat de la deuxième opération est bien un vecteur\n",
    "print('soustraction (v1): ',a-b)\n",
    "print('soustraction (v2): ',a.t()-b)\n",
    "# cet exemple est critique... Voici pourquoi:\n",
    "print('Somme v1', (a-b).sum())\n",
    "print('Somme v2', (a.t()-b).sum())\n",
    "\n",
    "# ATTENTION dans la fonction cout qui suit !!!"
   ]
  },
  {
   "cell_type": "code",
   "execution_count": null,
   "metadata": {},
   "outputs": [],
   "source": [
    "\n",
    "## changer les dimensions du tenseur (la taille totale doit être inchangée) = np.reshape\n",
    "b = torch.randn(3,4) \n",
    "print(b)\n",
    "print(b.view(2,6)) # view  = reshape\n",
    "\n",
    "# on utilise souvent view pour passer de matrice à vecteur\n",
    "e=torch.tensor([[1],[1],[1],[1]], dtype=torch.float)\n",
    "d = b@e\n",
    "print(d)\n",
    "# conversion en vecteur\n",
    "print(d.view(-1)) # view (-1) => jocker = c'est lui trouve la bonne dimension\n",
    "\n",
    "# usage typique\n",
    "y = torch.tensor([1,-1,1], dtype=torch.float)\n",
    "print(d > y)            # résultat catastrophique (dispatch)\n",
    "print(d.view(-1) > y)   # résultat attendu"
   ]
  },
  {
   "cell_type": "code",
   "execution_count": null,
   "metadata": {},
   "outputs": [],
   "source": [
    "# jeux de dimension\n",
    "\n",
    "e=torch.tensor([[1],[1],[1],[1]], dtype=torch.float)\n",
    "print(e.size(), e)\n",
    "\n",
    "# suppression d'une dimension 'vide'\n",
    "e2 = e.squeeze()\n",
    "print(e2.size(), e2)\n",
    "\n",
    "# ajout d'une dimension (le vecteur e2 devient le premier élément d'une dimension)\n",
    "e3 = e2.unsqueeze(0) # dimension ajoutée\n",
    "print(e3.size(), e3)\n",
    "\n",
    "# retour à e à partir de e2: => Il faut ajouter une seconde dimension\n",
    "e4 = e2.unsqueeze(1) # dimension ajoutée\n",
    "print(e4.size(), e4)\n",
    "\n",
    "# note: dans ce cas, on pouvait aussi jouer avec view\n",
    "print(e2.view(-1,1))\n"
   ]
  },
  {
   "cell_type": "markdown",
   "metadata": {},
   "source": [
    "# B. Quelques exercices rapides\n",
    "\n",
    "### Mise en forme\n",
    "\n",
    "**Construire le tenseur:**\n",
    "$$\\begin{pmatrix}1 & 2 & 3\\\\ 4 & 5 & 6 \\end{pmatrix} $$\n",
    "* construire d'abord la liste\n",
    "* en faire un tenseur d'entier\n",
    "* le remettre à la bonne dimension & l'afficher pour obtenir un l'affichage suivant:\n",
    "```\n",
    "tensor([[1, 2, 3],\n",
    "        [4, 5, 6]])\n",
    "```\n",
    "* faire en sorte que cette matrice soit le premier élément d'une nouvelle dimension (`unsqueeze`):\n",
    "```\n",
    "tensor([[[1, 2, 3],\n",
    "         [4, 5, 6]]])\n",
    "```"
   ]
  },
  {
   "cell_type": "code",
   "execution_count": null,
   "metadata": {},
   "outputs": [],
   "source": [
    "# <CORRECTION>\n",
    "\n",
    "a = [i+1 for i in range(6)]\n",
    "at = torch.tensor(a)\n",
    "b = at.view(2,3)\n",
    "print(b)\n",
    "\n",
    "print(b.unsqueeze(0))\n",
    "\n",
    "# </CORRECTION>"
   ]
  },
  {
   "cell_type": "markdown",
   "metadata": {},
   "source": [
    "\n",
    "* générer un tenseur aléatoire de dimension 6x6\n",
    "* mettre tous les éléments $> 0.75$ à 3, tous les éléments $>0.5$ à 1, tous les autres à 0 (exemple ci-dessous)\n",
    "```\n",
    "tensor([[0.2904, 0.8363, 0.1369, 0.6678, 0.7031, 0.8621],\n",
    "        [0.2346, 0.0459, 0.9227, 0.4143, 0.1521, 0.9640],\n",
    "        [0.1871, 0.2266, 0.8589, 0.4375, 0.6851, 0.2822],\n",
    "        [0.6622, 0.1185, 0.6011, 0.8171, 0.7270, 0.1480],\n",
    "        [0.7245, 0.5880, 0.2003, 0.1000, 0.4129, 0.1631],\n",
    "        [0.7844, 0.2308, 0.6906, 0.8632, 0.7242, 0.8772]])\n",
    "tensor([[0., 3., 0., 1., 1., 3.],\n",
    "        [0., 0., 3., 0., 0., 3.],\n",
    "        [0., 0., 3., 0., 1., 0.],\n",
    "        [1., 0., 1., 3., 1., 0.],\n",
    "        [1., 1., 0., 0., 0., 0.],\n",
    "        [3., 0., 1., 3., 1., 3.]])\n",
    "```\n",
    "* compter les 0, 1 et 3 (trouver la commande directe)\n",
    "```\n",
    "tensor(23) tensor(6) tensor(7)\n",
    "```\n",
    "* Construire la matrice b suivante en utilisant obligatoirement un produit matriciel:\n",
    "```\n",
    "tensor([[1., 2., 3., 4., 5., 6.],\n",
    "        [1., 2., 3., 4., 5., 6.],\n",
    "        [1., 2., 3., 4., 5., 6.],\n",
    "        [1., 2., 3., 4., 5., 6.],\n",
    "        [1., 2., 3., 4., 5., 6.],\n",
    "        [1., 2., 3., 4., 5., 6.]])\n",
    "```\n",
    "* calculer la somme des carrés des écarts entre les deux matrices précedentes\n",
    "```\n",
    "tensor(366.)\n",
    "```\n",
    "* afficher les matrices précédentes avec imshow (ce qui oblige à sortir des tenseurs pour utiliser matplotlib... Après l'avoir importé)\n",
    "\n",
    "<img src=\"media/matrices2.png\">\n"
   ]
  },
  {
   "cell_type": "code",
   "execution_count": null,
   "metadata": {},
   "outputs": [],
   "source": [
    "a = torch.rand(6,6)\n",
    "print(a)\n",
    "a[a<=0.5] = 0\n",
    "a[a>0.75] = 3\n",
    "a[(a>0.5) & (a<1)] = 1\n",
    "print(a)\n",
    "print((a==0).sum(), (a==1).sum(), (a==3).sum())\n",
    "\n",
    "b = torch.ones(6,1)@torch.tensor([float(i+1) for i in range(6)]).view(1,6)\n",
    "print(b)\n",
    "\n",
    "print(((a-b)**2).sum())\n",
    "\n"
   ]
  },
  {
   "cell_type": "code",
   "execution_count": null,
   "metadata": {},
   "outputs": [],
   "source": [
    "import matplotlib.pyplot as plt\n",
    "\n",
    "plt.figure()\n",
    "plt.subplot(1,2,1)\n",
    "plt.imshow(a.tolist())\n",
    "plt.subplot(1,2,2)\n",
    "plt.imshow(b.tolist())\n",
    "\n",
    "plt.savefig(\"media/matrices2.png\", bbox_inches='tight')\n"
   ]
  },
  {
   "cell_type": "markdown",
   "metadata": {},
   "source": [
    "# Construction du sujet à partir de la correction"
   ]
  },
  {
   "cell_type": "code",
   "execution_count": null,
   "metadata": {},
   "outputs": [],
   "source": [
    "### <CORRECTION> ###\n",
    "import re\n",
    "# transformation de cet énoncé en version étudiante\n",
    "\n",
    "fname = \"1_1-pytorch-struct-corr.ipynb\" # ce fichier\n",
    "fout  = fname.replace(\"-corr\",\"\")\n",
    "\n",
    "# print(\"Fichier de sortie: \", fout )\n",
    "\n",
    "f = open(fname, \"r\")\n",
    "txt = f.read()\n",
    " \n",
    "f.close()\n",
    "\n",
    "\n",
    "f2 = open(fout, \"w\")\n",
    "f2.write(re.sub(\"<CORRECTION>.*?(</CORRECTION>)\",\" TODO \",\\\n",
    "    txt, flags=re.DOTALL))\n",
    "f2.close()\n",
    "\n",
    "### </CORRECTION> ###"
   ]
  },
  {
   "cell_type": "code",
   "execution_count": null,
   "metadata": {},
   "outputs": [],
   "source": []
  }
 ],
 "metadata": {
  "accelerator": "GPU",
  "colab": {
   "collapsed_sections": [],
   "name": "DeepLearning fc TP1 2020-2021-correction.ipynb",
   "provenance": []
  },
  "kernelspec": {
   "display_name": "Python 3.8.15 ('torch-nightly')",
   "language": "python",
   "name": "python3"
  },
  "language_info": {
   "codemirror_mode": {
    "name": "ipython",
    "version": 3
   },
   "file_extension": ".py",
   "mimetype": "text/x-python",
   "name": "python",
   "nbconvert_exporter": "python",
   "pygments_lexer": "ipython3",
   "version": "3.8.15"
  },
  "vscode": {
   "interpreter": {
    "hash": "0539fa28f95d3c31ab10ef7831d62bf0e47751f442c28c9f64a267247464e7da"
   }
  }
 },
 "nbformat": 4,
 "nbformat_minor": 4
}
