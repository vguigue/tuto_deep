{
 "cells": [
  {
   "cell_type": "code",
   "execution_count": null,
   "metadata": {},
   "outputs": [],
   "source": []
  },
  {
   "cell_type": "markdown",
   "metadata": {},
   "source": [
    "# Classification de nom avec un RNN char to char\n",
    "\n",
    "Avant de démarrer cet exercice (directement repris des notebooks officiels pytorch), il est intéressant de prendre 2 minutes de recul pour considérer les applications qui peuvent être faites d'un tel travail.\n",
    "\n",
    "La tâche étant parfaitement résolue par le notebook précédent, l'idée de celui-ci est de remettre le notebook d'origine dans le cadre standard défini dans les chapitres précédents. Vous êtes largement incité à comparer les notebooks au fur et à mesure de votre avancement.\n",
    "\n",
    "ABORDER LES MODIFICATIONS DANS L'ORDRE PROPOSE\n",
    "\n",
    "1. Les données seront chargées sous forme de liste d'entier [code fourni]\n",
    "    - séparer les données en apprentissage et test \n",
    "    - ajouter un dataloader\n",
    "2. Modification du modèle pour \n",
    "    - utiliser les modules RNN (LSTM...)\n",
    "    - utiliser des embeddings (même pour du one-hot encoding)\n",
    "3. Batch... + padding\n",
    "4. Pondération des classes dans les tirages\n"
   ]
  },
  {
   "cell_type": "code",
   "execution_count": 1,
   "metadata": {},
   "outputs": [
    {
     "name": "stdout",
     "output_type": "stream",
     "text": [
      "mps\n"
     ]
    },
    {
     "name": "stderr",
     "output_type": "stream",
     "text": [
      "/var/folders/_h/xz4nr0h53dj3x3tygxjnzl540000gn/T/ipykernel_29294/1610587545.py:4: TqdmExperimentalWarning: Using `tqdm.autonotebook.tqdm` in notebook mode. Use `tqdm.tqdm` instead to force console mode (e.g. in jupyter console)\n",
      "  from tqdm.autonotebook import tqdm\n"
     ]
    }
   ],
   "source": [
    "# import standard + \n",
    "# \n",
    "import torch\n",
    "from tqdm.autonotebook import tqdm\n",
    "import os\n",
    "import time\n",
    "# device = torch.device(\"cuda\" if torch.cuda.is_available() else \"cpu\")\n",
    "device = torch.device(\"mps\" if torch.backends.mps.is_available() else \"cpu\")\n",
    "# device = \"cpu\"\n",
    "print(device)\n",
    "\n"
   ]
  },
  {
   "cell_type": "code",
   "execution_count": 2,
   "metadata": {},
   "outputs": [
    {
     "data": {
      "text/html": [
       "<h2>Informations</h2><div>Pour visualiser les logs, tapez la commande : </div>"
      ],
      "text/plain": [
       "<IPython.core.display.HTML object>"
      ]
     },
     "metadata": {},
     "output_type": "display_data"
    },
    {
     "name": "stdout",
     "output_type": "stream",
     "text": [
      "tensorboard --logdir /tmp/logs/module-RNN\n",
      "Une fois la commande lancer dans la console, copier-coller l'URL dans votre navigateur\n"
     ]
    }
   ],
   "source": [
    "from pathlib import Path\n",
    "from IPython.display import display, HTML\n",
    "from torch.utils.tensorboard import SummaryWriter\n",
    "\n",
    "# Chemin vers TensorBoard\n",
    "TB_PATH = \"/tmp/logs/module-RNN\"\n",
    "\n",
    "# TENSORBOARD \n",
    "# usage externe de tensorboard: (1) lancer la commande dans une console; (2) copier-coller l'URL dans un navigateur\n",
    "display(HTML(\"<h2>Informations</h2><div>Pour visualiser les logs, tapez la commande : </div>\"))\n",
    "print(f\"tensorboard --logdir {Path(TB_PATH).absolute()}\")\n",
    "print(\"Une fois la commande lancer dans la console, copier-coller l'URL dans votre navigateur\")"
   ]
  },
  {
   "cell_type": "code",
   "execution_count": 3,
   "metadata": {
    "collapsed": false
   },
   "outputs": [],
   "source": [
    "# For tips on running notebooks in Google Colab, see\n",
    "# https://pytorch.org/tutorials/beginner/colab\n",
    "%matplotlib inline"
   ]
  },
  {
   "cell_type": "markdown",
   "metadata": {},
   "source": [
    "NLP From Scratch: Classifying Names with a Character-Level RNN\n",
    "==============================================================\n",
    "\n",
    "**Author**: [Sean Robertson](https://github.com/spro)\n",
    "\n",
    "Adds from Vincent Guigue\n",
    "\n",
    "\n",
    "A character-level RNN reads words as a series of characters -outputting\n",
    "a prediction and \\\"hidden state\\\" at each step, feeding its previous\n",
    "hidden state into each next step. We take the final prediction to be the\n",
    "output, i.e. which class the word belongs to.\n",
    "\n",
    "Specifically, we\\'ll train on a few thousand surnames from 18 languages\n",
    "of origin, and predict which language a name is from based on the\n",
    "spelling:\n",
    "\n",
    "``` {.sh}\n",
    "$ python predict.py Hinton\n",
    "(-0.47) Scottish\n",
    "(-1.52) English\n",
    "(-3.57) Irish\n",
    "\n",
    "$ python predict.py Schmidhuber\n",
    "(-0.19) German\n",
    "(-2.48) Czech\n",
    "(-2.68) Dutch\n",
    "```\n"
   ]
  },
  {
   "cell_type": "markdown",
   "metadata": {},
   "source": [
    "\n",
    "\n",
    "A. Preparing the Data\n",
    "------------------\n",
    "\n",
    "Included in the `data/names` directory are 18 text files named as\n",
    "`[Language].txt`. Each file contains a bunch of names, one name per\n",
    "line, mostly romanized (but we still need to convert from Unicode to\n",
    "ASCII).\n",
    "\n",
    "We\\'ll end up with a dictionary of lists of names per language,\n",
    "`{language: [names ...]}`. The generic variables \\\"category\\\" and\n",
    "\\\"line\\\" (for language and name in our case) are used for later\n",
    "extensibility.\n"
   ]
  },
  {
   "cell_type": "code",
   "execution_count": 4,
   "metadata": {
    "collapsed": false
   },
   "outputs": [
    {
     "name": "stdout",
     "output_type": "stream",
     "text": [
      "['data/names/Czech.txt', 'data/names/German.txt', 'data/names/Arabic.txt', 'data/names/Japanese.txt', 'data/names/Chinese.txt', 'data/names/Vietnamese.txt', 'data/names/Russian.txt', 'data/names/French.txt', 'data/names/Irish.txt', 'data/names/English.txt', 'data/names/Spanish.txt', 'data/names/Greek.txt', 'data/names/Italian.txt', 'data/names/Portuguese.txt', 'data/names/Scottish.txt', 'data/names/Dutch.txt', 'data/names/Korean.txt', 'data/names/Polish.txt']\n",
      "Slusarski\n"
     ]
    }
   ],
   "source": [
    "# Pas de modification importante dans le chargement des données brutes\n",
    "# noter malgré tout l'ajout de deux caractères spéciaux qui seront repris ensuite: PAD et SOS\n",
    "# Les noms sont évocateurs... Si vous ne comprenez pas à quoi ils servent: demandez\n",
    "\n",
    "\n",
    "from io import open\n",
    "import glob\n",
    "import os\n",
    "\n",
    "def findFiles(path): return glob.glob(path)\n",
    "\n",
    "print(findFiles('data/names/*.txt'))\n",
    "\n",
    "import unicodedata\n",
    "import string\n",
    "\n",
    "all_letters = string.ascii_letters + \" .,';_%\"\n",
    "PAD = len(all_letters)-1\n",
    "# OPT : define a start of sequence letter = SOS\n",
    "#<CORRECTION>\n",
    "SOS = len(all_letters)-2\n",
    "#</CORRECTION>\n",
    "n_letters = len(all_letters)\n",
    "\n",
    "# Turn a Unicode string to plain ASCII, thanks to https://stackoverflow.com/a/518232/2809427\n",
    "def unicodeToAscii(s):\n",
    "    return ''.join(\n",
    "        c for c in unicodedata.normalize('NFD', s)\n",
    "        if unicodedata.category(c) != 'Mn'\n",
    "        and c in all_letters\n",
    "    )\n",
    "\n",
    "print(unicodeToAscii('Ślusàrski'))\n",
    "\n",
    "# Build the category_lines dictionary, a list of names per language\n",
    "category_lines = {}\n",
    "all_categories = []\n",
    "\n",
    "# Read a file and split into lines\n",
    "def readLines(filename):\n",
    "    lines = open(filename, encoding='utf-8').read().strip().split('\\n')\n",
    "    return [unicodeToAscii(line) for line in lines]\n",
    "\n",
    "for filename in findFiles('data/names/*.txt'):\n",
    "    category = os.path.splitext(os.path.basename(filename))[0]\n",
    "    all_categories.append(category)\n",
    "    lines = readLines(filename)\n",
    "    category_lines[category] = lines\n",
    "\n",
    "n_categories = len(all_categories)\n"
   ]
  },
  {
   "cell_type": "code",
   "execution_count": 5,
   "metadata": {},
   "outputs": [
    {
     "data": {
      "text/plain": [
       "'Czech'"
      ]
     },
     "execution_count": 5,
     "metadata": {},
     "output_type": "execute_result"
    }
   ],
   "source": [
    "# vérification des données chargées\n",
    "\n",
    "all_categories[0]"
   ]
  },
  {
   "cell_type": "markdown",
   "metadata": {},
   "source": [
    "Now we have `category_lines`, a dictionary mapping each category\n",
    "(language) to a list of lines (names). We also kept track of\n",
    "`all_categories` (just a list of languages) and `n_categories` for later\n",
    "reference.\n"
   ]
  },
  {
   "cell_type": "code",
   "execution_count": 6,
   "metadata": {
    "collapsed": false
   },
   "outputs": [
    {
     "name": "stdout",
     "output_type": "stream",
     "text": [
      "['Abandonato', 'Abatangelo', 'Abatantuono', 'Abate', 'Abategiovanni']\n"
     ]
    }
   ],
   "source": [
    "print(category_lines['Italian'][:5])"
   ]
  },
  {
   "cell_type": "markdown",
   "metadata": {},
   "source": [
    "## Turning Names into Tensors\n",
    "\n",
    "\n",
    "Now that we have all the names organized, we need to turn them into\n",
    "Tensors to make any use of them.\n",
    "\n",
    "To represent a single letter, we use a \\\"one-hot vector\\\" of size\n",
    "`<1 x n_letters>`. A one-hot vector is filled with 0s except for a 1 at\n",
    "index of the current letter, e.g. `\"b\" = <0 1 0 0 0 ...>`.\n",
    "\n",
    "To make a word we join a bunch of those into a 2D matrix\n",
    "`<line_length x 1 x n_letters>`.\n",
    "\n",
    "That extra 1 dimension is because PyTorch assumes everything is in\n",
    "batches - we\\'re just using a batch size of 1 here.\n"
   ]
  },
  {
   "cell_type": "code",
   "execution_count": 7,
   "metadata": {
    "collapsed": false
   },
   "outputs": [
    {
     "name": "stdout",
     "output_type": "stream",
     "text": [
      "J : 35\n",
      "Jones : tensor([35, 14, 13,  4, 18]) torch.Size([5])\n"
     ]
    }
   ],
   "source": [
    "##################\n",
    "# MODIFICATION 1 : données => listes d'entiers [code fourni]\n",
    "##################\n",
    "\n",
    "# Find letter index from all_letters, e.g. \"a\" = 0\n",
    "def letterToIndex(letter):\n",
    "    return all_letters.find(letter)\n",
    "\n",
    "\n",
    "# Turn a line into a list of integer\n",
    "def lineToTensor(line):\n",
    "    tensor = torch.tensor([letterToIndex(i) for i in line], dtype=torch.long)\n",
    "    return tensor\n",
    "\n",
    "letter = 'J'\n",
    "print(letter, ':', letterToIndex(letter))\n",
    "\n",
    "name = 'Jones'\n",
    "print(name, ':', lineToTensor(name), lineToTensor(name).size())"
   ]
  },
  {
   "cell_type": "code",
   "execution_count": 8,
   "metadata": {},
   "outputs": [
    {
     "data": {
      "text/plain": [
       "'John'"
      ]
     },
     "execution_count": 8,
     "metadata": {},
     "output_type": "execute_result"
    }
   ],
   "source": [
    "##################\n",
    "# MODIFICATION 1 : données => listes d'entiers [code fourni]\n",
    "##################\n",
    "# # Vérification de la réversibilité des opérations\n",
    "\n",
    "def tensorToName(x):\n",
    "    name = \"\"\n",
    "    for letter in x:\n",
    "        name += all_letters[letter]\n",
    "    return name\n",
    "\n",
    "\n",
    "tensorToName(lineToTensor(\"John\") )"
   ]
  },
  {
   "cell_type": "code",
   "execution_count": 9,
   "metadata": {},
   "outputs": [
    {
     "name": "stdout",
     "output_type": "stream",
     "text": [
      "('German', 1)\n"
     ]
    }
   ],
   "source": [
    "##################\n",
    "# MODIFICATION 1 : données => listes d'entiers [code fourni]\n",
    "##################\n",
    "# # vector => argmax => translation to country\n",
    "def categoryFromOutput(output):\n",
    "    top_n, top_i = output.topk(1)\n",
    "    category_i = top_i[0].item()\n",
    "    return all_categories[category_i], category_i\n",
    "\n",
    "print(categoryFromOutput(torch.nn.functional.one_hot(torch.tensor(1),18))) # output from the previous box"
   ]
  },
  {
   "cell_type": "code",
   "execution_count": 10,
   "metadata": {},
   "outputs": [],
   "source": [
    "##################\n",
    "# MODIFICATION 1 : données => listes d'entiers [code fourni]\n",
    "##################\n",
    "# from torch.utils.data import DataLoader, Dataset\n",
    "from itertools import chain\n",
    "\n",
    "alltensor=[]\n",
    "\n",
    "labels = [[ i for name in category_lines[c]] for i,c in enumerate(all_categories)]\n",
    "names  = [[ name for name in category_lines[c]] for i,c in enumerate(all_categories)]\n",
    "\n",
    "# build a dataset (textrepr,label)\n",
    "alllab = torch.tensor(list(chain.from_iterable(labels)), dtype = torch.long)\n",
    "allx = [ lineToTensor(name).squeeze() for name in chain.from_iterable(names)]\n",
    "\n",
    "# maxlen = -1\n",
    "# for x in allx:\n",
    "#     if len(x)>maxlen: maxlen = len(x)\n",
    "# print(maxlen)\n"
   ]
  },
  {
   "cell_type": "code",
   "execution_count": 11,
   "metadata": {},
   "outputs": [],
   "source": [
    "##################\n",
    "# MODIFICATION 1 : données => listes d'entiers [code fourni]\n",
    "##################\n",
    "import torch\n",
    "from torch.utils.data import Dataset, DataLoader\n",
    "\n",
    "class NameDataset(Dataset):\n",
    "    def __init__(self, input_tensors, label_tensors):\n",
    "        assert len(input_tensors) == len(label_tensors), \"Les listes d'entrée et d'étiquettes doivent avoir la même longueur\"\n",
    "        self.input_tensors = input_tensors\n",
    "        self.label_tensors = label_tensors\n",
    "\n",
    "    def __len__(self):\n",
    "        return len(self.input_tensors)\n",
    "\n",
    "    def __getitem__(self, idx):\n",
    "        return self.input_tensors[idx], self.label_tensors[idx]\n",
    "\n"
   ]
  },
  {
   "cell_type": "code",
   "execution_count": 12,
   "metadata": {},
   "outputs": [
    {
     "name": "stdout",
     "output_type": "stream",
     "text": [
      "sizes : 18066 2008\n"
     ]
    }
   ],
   "source": [
    "##################\n",
    "# MODIFICATION 1 : données => listes d'entiers [code fourni]\n",
    "# Séparartion app / test\n",
    "##################\n",
    "# \n",
    "from torch.utils.data import random_split\n",
    "Bsize = 128\n",
    "\n",
    "# dataset\n",
    "name_ds = NameDataset(allx, alllab)\n",
    "# Découper le dataset\n",
    "train_size = int(0.9 * len(name_ds))  # 80% pour l'apprentissage\n",
    "test_size = len(name_ds) - train_size  # Le reste pour le test\n",
    "\n",
    "print(\"sizes :\",train_size,test_size)\n",
    "\n",
    "train_dataset, test_dataset = random_split(name_ds, [train_size, test_size])\n"
   ]
  },
  {
   "cell_type": "code",
   "execution_count": 13,
   "metadata": {},
   "outputs": [],
   "source": [
    "##################\n",
    "# MODIFICATION 3 : Batch + padding\n",
    "##################\n",
    "\n",
    "from torch.nn.utils.rnn import pad_sequence\n",
    "\n",
    "def collate_fn(batch):\n",
    "    sequences, labels = zip(*batch)\n",
    "    lengths = [len(seq) for seq in sequences]\n",
    "    padded_sequences = pad_sequence(sequences, batch_first=False, padding_value=PAD)\n",
    "    return padded_sequences, torch.tensor(lengths), torch.tensor(labels)\n",
    "\n",
    "\n",
    "# def collate_fn_with_sos(batch, sos_token=SOS):\n",
    "#     sequences, labels = zip(*batch)  # Séparer les séquences et les labels\n",
    "#     sequences = [torch.cat((torch.tensor([sos_token]), seq)) for seq in sequences]  # Ajouter SOS à chaque séquence\n",
    "#     lengths = torch.tensor([len(seq) for seq in sequences])  # Longueurs des séquences\n",
    "#     padded_sequences = pad_sequence(sequences, batch_first=False, padding_value=PAD)  # Padding des séquences\n",
    "#     labels = torch.tensor(labels)  # Convertir les labels en tenseur\n",
    "#     return padded_sequences, lengths, labels\n"
   ]
  },
  {
   "cell_type": "code",
   "execution_count": 14,
   "metadata": {},
   "outputs": [
    {
     "name": "stdout",
     "output_type": "stream",
     "text": [
      "tensor([ 482,  645, 1794,  906,  245,   68, 8434,  247,  217, 3294,  265,  187,\n",
      "         643,   65,   91,  270,   86,  127])\n"
     ]
    }
   ],
   "source": [
    "##################\n",
    "# MODIFICATION 4 : Pondérer les classes\n",
    "##################\n",
    "\n",
    "from torch.utils.data import DataLoader, WeightedRandomSampler\n",
    "\n",
    "\n",
    "# Extraire les labels de l'ensemble d'entraînement\n",
    "train_labels = [train_dataset[i][1] for i in range(len(train_dataset))]\n",
    "\n",
    "\n",
    "# CONSTRUIRE UN ALGORITHME DE PONDERATION DES ECHANTILLONS (prop aux présences des classes)\n",
    "## <CORRECTION>\n",
    "# Comptage des classes dans l'ensemble d'entraînement\n",
    "train_class_counts = torch.bincount(torch.tensor(train_labels))\n",
    "print(train_class_counts)\n",
    "# train_class_weights = 1.0 / torch.sqrt(train_class_counts)\n",
    "train_class_weights = 1.0 / train_class_counts\n",
    "\n",
    "# Calcul des poids pour chaque exemple\n",
    "train_sample_weights = [train_class_weights[label] for label in train_labels]\n",
    "## </CORRECTION>\n",
    "\n",
    "\n",
    "# Définir le sampler pour l'ensemble d'entraînement\n",
    "train_sampler = WeightedRandomSampler(weights=train_sample_weights, num_samples=len(train_labels), replacement=True)"
   ]
  },
  {
   "cell_type": "code",
   "execution_count": 15,
   "metadata": {},
   "outputs": [],
   "source": [
    "\n",
    "# Création des DataLoaders basiques (=modif 1)\n",
    "train_loader = DataLoader(train_dataset, batch_size=1, shuffle=True)\n",
    "test_loader = DataLoader(test_dataset, batch_size=1, shuffle=False)\n",
    "#\n",
    "\n",
    "# POUR LA MODIF 3\n",
    "# train_loader = DataLoader(train_dataset, batch_size=Bsize, shuffle=True,  collate_fn=collate_fn)\n",
    "# test_loader = DataLoader(test_dataset, batch_size=Bsize, shuffle=False, collate_fn=collate_fn)\n",
    "\n",
    "# POUR LA MODIF 4\n",
    "# train_loader_all = DataLoader(train_dataset, batch_size=Bsize,   collate_fn=collate_fn)\n",
    "# train_loader = DataLoader(train_dataset, batch_size=Bsize, sampler=train_sampler,  collate_fn=collate_fn)\n",
    "# test_loader = DataLoader(test_dataset, batch_size=Bsize, shuffle=False, collate_fn=collate_fn)\n",
    "\n"
   ]
  },
  {
   "cell_type": "code",
   "execution_count": 17,
   "metadata": {},
   "outputs": [
    {
     "name": "stdout",
     "output_type": "stream",
     "text": [
      "Padded sequences: tensor([[38,  8, 18, 18,  8,  0, 10, 14, 18]])\n",
      "Labels: tensor([11])\n",
      "Padded sequences: tensor([[36,  0, 10,  8, 13, 14, 12, 14, 19, 14]])\n",
      "Labels: tensor([3])\n"
     ]
    }
   ],
   "source": [
    "# # Test\n",
    "c = 0\n",
    "\n",
    "for batch in train_loader:\n",
    "    # modif 3\n",
    "    # # padded_sequences, lengths, labels = batch\n",
    "    padded_sequences, labels = batch\n",
    "    print(\"Padded sequences:\", padded_sequences)\n",
    "    # print(\"Lengths:\", lengths)\n",
    "    print(\"Labels:\", labels)\n",
    "\n",
    "    c+=1\n",
    "    if c == 2: # en afficher 2\n",
    "        break\n",
    "\n"
   ]
  },
  {
   "cell_type": "markdown",
   "metadata": {},
   "source": [
    "## B. Using a RNN unit\n",
    "\n",
    "Just a reminder of the example from the course"
   ]
  },
  {
   "cell_type": "code",
   "execution_count": 18,
   "metadata": {},
   "outputs": [
    {
     "name": "stdout",
     "output_type": "stream",
     "text": [
      "seq_h :  torch.Size([23, 10, 50])\n",
      "last_h:  torch.Size([1, 10, 50])\n"
     ]
    }
   ],
   "source": [
    "model = torch.nn.RNN(input_size=100, hidden_size=50, \n",
    "                     num_layers=1,\n",
    "                     nonlinearity='tanh', bias=True)\n",
    "\n",
    "# data (x_1,...,x_T), batch, dimension des entrées\n",
    "#   dim1 : Seq. length T=23 \n",
    "#   dim2 : batch of size 10\n",
    "#   dim3 : Input x_t \\in R^n dimension 100\n",
    "seq_x = torch.rand(23, 10, 100) # simulation d'un batch\n",
    "\n",
    "# For classification purpose, we use last_h\n",
    "seq_h, last_h = model(seq_x)\n",
    "\n",
    "print(\"seq_h : \",seq_h.size())\n",
    "print(\"last_h: \", last_h.size())"
   ]
  },
  {
   "cell_type": "markdown",
   "metadata": {},
   "source": [
    "## C. Creating the Network\n",
    "\n",
    "\n",
    "Implementing a basic RNN\n"
   ]
  },
  {
   "cell_type": "code",
   "execution_count": 58,
   "metadata": {},
   "outputs": [],
   "source": [
    "import torch.nn as nn\n",
    "import torch.nn.functional as F\n",
    "\n",
    "class RNN(nn.Module):\n",
    "    def __init__(self, hidden_size, output_size, n_letters):\n",
    "        super(RNN, self).__init__()\n",
    "\n",
    "        self.hidden_size = hidden_size\n",
    "        self.input_size  = n_letters\n",
    "\n",
    "        self.emb = nn.Embedding(n_letters, n_letters)\n",
    "\n",
    "        # Construire les embeddings à la main sous forme de one-hot\n",
    "        # 1. Desactiver le gradient\n",
    "        # 2. Initialiser à la main: self.emb.weight[...]\n",
    "\n",
    "        ## <CORRECTION>\n",
    "        self.emb.weight.requires_grad = False\n",
    "        for i in range(n_letters):\n",
    "            self.emb.weight[:,torch.tensor(i)] = torch.nn.functional.one_hot(torch.tensor(i), n_letters)\n",
    "        self.emb.weight[:,-1].zero_() # padding\n",
    "        ## </CORRECTION>\n",
    "\n",
    "        \n",
    "        # Define 2 linear layers:\n",
    "        # rec = recurrent unit (tanh) RNN (LSTM...)\n",
    "        # h2o = hidden to output [prediction]\n",
    "\n",
    "        ## <CORRECTION>\n",
    "        self.rec = nn.RNN(self.input_size,self.hidden_size, nonlinearity='tanh' )\n",
    "        # self.rec = nn.LSTM(self.input_size, self.hidden_size)\n",
    "        self.h2o = nn.Linear(hidden_size, output_size)\n",
    "        ## </CORRECTION>\n",
    "        \n",
    "\n",
    "    def forward(self, input, lengths=None):\n",
    "        # 1. translation of the input from int to one-hot\n",
    "        # 2. Passage dans le rec\n",
    "        # 3. retour de la prediction sur la dernière couche\n",
    "\n",
    "\n",
    "        ## <CORRECTION>\n",
    "        xemb = self.emb(input).transpose(0,1)\n",
    "        print(\"xemb\", xemb.size())\n",
    "        \n",
    "        # if lengths != None:\n",
    "        #     xemb = nn.utils.rnn.pack_padded_sequence(xemb, lengths,  enforce_sorted=False)\n",
    "\n",
    "        hidden, last = self.rec(xemb)   # RNN\n",
    "        # hidden, (last,c) = self.rec(xemb) # LSTM => last[-1]\n",
    "\n",
    "        # if lengths != None:\n",
    "        #     batch_size = xemb.size(1)\n",
    "        #     last = torch.stack([hidden[ lengths[i] - 1, i, :] for i in range(batch_size)])\n",
    "\n",
    "        print(\"last\", last.size())\n",
    "        print(\"hidden\", hidden.size())\n",
    "        output = self.h2o(last).squeeze(0)\n",
    "        #output = self.h2o(last)\n",
    "        \n",
    "        ## </CORRECTION>\n",
    "        return output, hidden\n",
    "\n"
   ]
  },
  {
   "cell_type": "code",
   "execution_count": 59,
   "metadata": {},
   "outputs": [
    {
     "name": "stdout",
     "output_type": "stream",
     "text": [
      "n_letters: 59\n",
      "n_categories: 18\n"
     ]
    }
   ],
   "source": [
    "# reminder: \n",
    "print(\"n_letters:\", n_letters)\n",
    "print(\"n_categories:\", n_categories)\n",
    "# choose hidden size\n",
    "n_hidden = 128\n",
    "# build network\n",
    "rnn = RNN( n_hidden, n_categories, n_letters)\n",
    "rnn.name = \"baseRNN-\"+time.asctime()"
   ]
  },
  {
   "cell_type": "markdown",
   "metadata": {},
   "source": [
    "For the sake of efficiency we don\\'t want to be creating a new Tensor\n",
    "for every step, so we will use `lineToTensor` instead of\n",
    "`letterToTensor` and use slices. This could be further optimized by\n",
    "precomputing batches of Tensors.\n"
   ]
  },
  {
   "cell_type": "code",
   "execution_count": null,
   "metadata": {
    "collapsed": false
   },
   "outputs": [
    {
     "name": "stdout",
     "output_type": "stream",
     "text": [
      "xemb torch.Size([2, 1, 59])\n",
      "last torch.Size([1, 1, 128])\n",
      "hidden torch.Size([2, 1, 128])\n",
      "input: tensor([26, 27]) torch.Size([2])\n",
      "output: torch.Size([1, 18])\n",
      "hidden: torch.Size([2, 1, 128])\n"
     ]
    }
   ],
   "source": [
    "input = lineToTensor('AB')\n",
    "output, hidden = rnn(input.unsqueeze(1))\n",
    "print(\"input:\", input, input.size())\n",
    "print(\"output:\",output.size())\n",
    "print(\"hidden:\", hidden.size())"
   ]
  },
  {
   "cell_type": "code",
   "execution_count": 61,
   "metadata": {},
   "outputs": [
    {
     "name": "stdout",
     "output_type": "stream",
     "text": [
      "torch.Size([1, 10]) torch.Size([1])\n",
      "xemb torch.Size([10, 1, 59])\n",
      "last torch.Size([1, 1, 128])\n",
      "hidden torch.Size([10, 1, 128])\n",
      "torch.Size([1, 18])\n"
     ]
    }
   ],
   "source": [
    "loss = nn.CrossEntropyLoss()\n",
    "# batch\n",
    "# modif 3 \n",
    "# x, lengths, y = next(iter(train_loader))\n",
    "x, y = next(iter(train_loader))\n",
    "print(x.size(),y.size())\n",
    "\n",
    "# modif 3 \n",
    "# yhat, hidden = rnn(x, lengths)\n",
    "yhat, hidden = rnn(x)\n",
    "print(yhat.size())\n",
    "l = loss(yhat,y)"
   ]
  },
  {
   "cell_type": "markdown",
   "metadata": {},
   "source": [
    "As you can see the output is a `<1 x n_categories>` Tensor, where every\n",
    "item is the likelihood of that category (higher is more likely).\n"
   ]
  },
  {
   "cell_type": "markdown",
   "metadata": {},
   "source": [
    "## C. Training\n",
    "\n",
    "1. put the data into a DataLoader\n",
    "2. choose a loss function \n",
    "3. run a standard training loop"
   ]
  },
  {
   "cell_type": "code",
   "execution_count": 39,
   "metadata": {},
   "outputs": [],
   "source": [
    "# définition de la métrique d'évaluation\n",
    "def accuracy(yhat,y):\n",
    "    # y encode les indexes, s'assurer de la bonne taille de tenseur\n",
    "    assert len(y.shape)==1 or y.size(1)==1\n",
    "    return (torch.argmax(yhat,1).view(y.size(0),-1)== y.view(-1,1)).float().mean()"
   ]
  },
  {
   "cell_type": "code",
   "execution_count": null,
   "metadata": {},
   "outputs": [],
   "source": [
    "\n",
    "    \n",
    "def train(model,epochs,train_loader,test_loader):\n",
    "    writer = SummaryWriter(f\"{TB_PATH}/{model.name}\")\n",
    "    optim = torch.optim.Adam(model.parameters(),lr=1e-3)    # choix optimizer\n",
    "    model = model.to(device)\n",
    "    print(f\"running {model.name}\")\n",
    "    loss = nn.CrossEntropyLoss()                            # choix loss\n",
    "    # \n",
    "    # loss = nn.CrossEntropyLoss(weight=cl_weight.to(device))                            # choix loss\n",
    "    for epoch in tqdm(range(epochs)):\n",
    "        cumloss, cumacc, count = 0, 0, 0\n",
    "        model.train()\n",
    "        for x, lengths, y in train_loader:                            # boucle sur les batchs\n",
    "            optim.zero_grad()\n",
    "            x,y = x.to(device), y.to(device)                # y doit être un tensor (pas un int)\n",
    "            yhat, next_hidden = model(x, lengths)\n",
    "            l = loss(yhat,y)\n",
    "            l.backward()\n",
    "            optim.step()\n",
    "            cumloss += l*len(x)                             # attention, il peut y avoir un batch + petit (le dernier)\n",
    "            cumacc += accuracy(yhat,y)*len(x)\n",
    "            count += len(x)\n",
    "        writer.add_scalar('loss/train',cumloss/count,epoch)\n",
    "        writer.add_scalar('accuracy/train',cumacc/count,epoch)\n",
    "        if epoch % 2 == 0:\n",
    "            model.eval()\n",
    "            with torch.no_grad():\n",
    "                cumloss, cumacc, count = 0, 0, 0\n",
    "                for x, lengths, y in test_loader:\n",
    "                    x,y = x.to(device), y.to(device)\n",
    "                    yhat, next_hidden = model(x, lengths)\n",
    "                    cumloss += loss(yhat,y)*len(x)\n",
    "                    cumacc += accuracy(yhat,y)*len(x)\n",
    "                    count += len(x)\n",
    "                writer.add_scalar(f'loss/test',cumloss/count,epoch)\n",
    "                writer.add_scalar('accuracy/test',cumacc/count,epoch)\n"
   ]
  },
  {
   "cell_type": "code",
   "execution_count": 210,
   "metadata": {},
   "outputs": [
    {
     "name": "stdout",
     "output_type": "stream",
     "text": [
      "running baseRNN-Tue Dec 10 11:07:11 2024\n"
     ]
    },
    {
     "data": {
      "application/vnd.jupyter.widget-view+json": {
       "model_id": "c21efb05c5a84b3a8842f65e4268bec7",
       "version_major": 2,
       "version_minor": 0
      },
      "text/plain": [
       "  0%|          | 0/100 [00:00<?, ?it/s]"
      ]
     },
     "metadata": {},
     "output_type": "display_data"
    }
   ],
   "source": [
    "# ~10 minutes sur CPU\n",
    "n_epoch = 100\n",
    "train(rnn, n_epoch, train_loader, test_loader)\n"
   ]
  },
  {
   "cell_type": "markdown",
   "metadata": {},
   "source": [
    "## D. Evaluating the Results\n",
    "\n",
    "From the qualitative point of view, then computing the confusion matrix\n"
   ]
  },
  {
   "cell_type": "code",
   "execution_count": 211,
   "metadata": {},
   "outputs": [
    {
     "name": "stdout",
     "output_type": "stream",
     "text": [
      "top  0 Japanese\n",
      "top  1 Arabic\n",
      "top  2 Russian\n",
      "top  3 Czech\n",
      "top  4 Italian\n"
     ]
    }
   ],
   "source": [
    "name = \"Satoshi\"\n",
    "input = lineToTensor(name).unsqueeze(1).to(device)\n",
    "# print(input.size())\n",
    "yhat, h = rnn(input)\n",
    "# print(yhat)\n",
    "for i,c in enumerate(yhat.to('cpu').squeeze().topk(5).indices.squeeze()):\n",
    "    # print(i,c)\n",
    "    print(\"top \", i, all_categories[c])"
   ]
  },
  {
   "cell_type": "code",
   "execution_count": 213,
   "metadata": {
    "collapsed": false
   },
   "outputs": [
    {
     "data": {
      "image/png": "[encoded data removed]",
      "text/plain": [
       "<Figure size 640x480 with 2 Axes>"
      ]
     },
     "metadata": {},
     "output_type": "display_data"
    }
   ],
   "source": [
    "import matplotlib.pyplot as plt\n",
    "\n",
    "\n",
    "# Keep track of correct guesses in a confusion matrix\n",
    "confusion = torch.zeros(n_categories, n_categories)\n",
    "\n",
    "for x,l,y in train_loader: # choose train or test\n",
    "    x = x.to(device) #, y.to(device)\n",
    "    yhat, h = rnn(x,l)\n",
    "    # print(yhat.size())\n",
    "    guess = yhat.to('cpu').argmax(1)\n",
    "    confusion[y,guess] += 1\n",
    "\n",
    "# # Normalize by dividing every row by its sum\n",
    "for i in range(n_categories):\n",
    "    confusion[i] = confusion[i] / confusion[i].sum()\n",
    "\n",
    "# Set up plot\n",
    "fig = plt.figure()\n",
    "ax = fig.add_subplot(111)\n",
    "cax = ax.matshow(confusion.numpy())\n",
    "fig.colorbar(cax)\n",
    "\n",
    "# Set up axes\n",
    "ax.set_xticks(range(n_categories), labels=all_categories, rotation=90)\n",
    "ax.set_yticks(range(n_categories), labels=all_categories)\n",
    "\n",
    "plt.show()"
   ]
  },
  {
   "cell_type": "markdown",
   "metadata": {},
   "source": [
    "You can pick out bright spots off the main axis that show which\n",
    "languages it guesses incorrectly, e.g. Chinese for Korean, and Spanish\n",
    "for Italian. It seems to do very well with Greek, and very poorly with\n",
    "English (perhaps because of overlap with other languages).\n"
   ]
  },
  {
   "cell_type": "markdown",
   "metadata": {},
   "source": []
  },
  {
   "cell_type": "markdown",
   "metadata": {},
   "source": [
    "Exercises\n",
    "=========\n",
    "\n",
    "-   Try with a different dataset of line -\\> category, for example:\n",
    "    -   Any word -\\> language\n",
    "    -   First name -\\> gender\n",
    "    -   Character name -\\> writer\n",
    "    -   Page title -\\> blog or subreddit\n",
    "-   Get better results with a bigger and/or better shaped network\n",
    "    -   Add more linear layers\n",
    "    -   Try the `nn.LSTM` and `nn.GRU` layers\n",
    "    -   Combine multiple of these RNNs as a higher level network\n"
   ]
  },
  {
   "cell_type": "markdown",
   "metadata": {},
   "source": [
    "# Construction du sujet à partir de la correction"
   ]
  },
  {
   "cell_type": "code",
   "execution_count": 1,
   "metadata": {},
   "outputs": [],
   "source": [
    "### <CORRECTION> ###\n",
    "import re\n",
    "# transformation de cet énoncé en version étudiante\n",
    "\n",
    "fname = \"4_2_char_rnn-corr.ipynb\" # ce fichier\n",
    "fout  = fname.replace(\"-corr\",\"\")\n",
    "\n",
    "# print(\"Fichier de sortie: \", fout )\n",
    "\n",
    "f = open(fname, \"r\")\n",
    "txt = f.read()\n",
    " \n",
    "f.close()\n",
    "\n",
    "f2 = open(fout, \"w\")\n",
    "f2.write(re.sub(\"<CORRECTION>.*?(</CORRECTION>)\",\" TODO \",\\\n",
    "    txt, flags=re.DOTALL))\n",
    "f2.close()\n",
    "\n",
    "### </CORRECTION> ###"
   ]
  },
  {
   "cell_type": "code",
   "execution_count": null,
   "metadata": {},
   "outputs": [],
   "source": []
  }
 ],
 "metadata": {
  "kernelspec": {
   "display_name": "pyth-torch-numpy",
   "language": "python",
   "name": "python3"
  },
  "language_info": {
   "codemirror_mode": {
    "name": "ipython",
    "version": 3
   },
   "file_extension": ".py",
   "mimetype": "text/x-python",
   "name": "python",
   "nbconvert_exporter": "python",
   "pygments_lexer": "ipython3",
   "version": "3.11.10"
  }
 },
 "nbformat": 4,
 "nbformat_minor": 0
}
