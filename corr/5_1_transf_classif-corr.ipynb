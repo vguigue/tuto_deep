{
 "cells": [
  {
   "cell_type": "markdown",
   "metadata": {},
   "source": [
    "# Classification d'opinion avec un Transformer \n",
    "\n",
    "Téléchargez les données sur le site d'origine:\n",
    "[https://ai.stanford.edu/~amaas/data/sentiment/]\n",
    "\n",
    "Penser à dezipper le fichier d'embeddings présent dans le répertoire data.\n",
    "\n",
    "Ensuite, le TP est opérationnel :)"
   ]
  },
  {
   "cell_type": "code",
   "execution_count": 1,
   "metadata": {},
   "outputs": [
    {
     "name": "stdout",
     "output_type": "stream",
     "text": [
      "mps\n"
     ]
    },
    {
     "name": "stderr",
     "output_type": "stream",
     "text": [
      "/var/folders/_h/xz4nr0h53dj3x3tygxjnzl540000gn/T/ipykernel_54921/759565704.py:8: TqdmExperimentalWarning: Using `tqdm.autonotebook.tqdm` in notebook mode. Use `tqdm.tqdm` instead to force console mode (e.g. in jupyter console)\n",
      "  from tqdm.autonotebook import tqdm\n"
     ]
    }
   ],
   "source": [
    "# import standard + \n",
    "# \n",
    "import numpy as np\n",
    "\n",
    "import torch.nn.functional as F\n",
    "import torch\n",
    "import torch.nn as nn\n",
    "from tqdm.autonotebook import tqdm\n",
    "from torch.utils.data import Dataset, DataLoader\n",
    "\n",
    "import os\n",
    "import time\n",
    "import logging\n",
    "import re\n",
    "# device = torch.device(\"cuda\" if torch.cuda.is_available() else \"cpu\")\n",
    "device = torch.device(\"mps\" if torch.backends.mps.is_available() else \"cpu\")\n",
    "# device = \"cpu\"\n",
    "print(device)\n",
    "\n"
   ]
  },
  {
   "cell_type": "code",
   "execution_count": 2,
   "metadata": {},
   "outputs": [
    {
     "data": {
      "text/html": [
       "<h2>Informations</h2><div>Pour visualiser les logs, tapez la commande : </div>"
      ],
      "text/plain": [
       "<IPython.core.display.HTML object>"
      ]
     },
     "metadata": {},
     "output_type": "display_data"
    },
    {
     "name": "stdout",
     "output_type": "stream",
     "text": [
      "tensorboard --logdir /tmp/logs/module-Transf\n",
      "Une fois la commande lancer dans la console, copier-coller l'URL dans votre navigateur\n"
     ]
    }
   ],
   "source": [
    "from pathlib import Path\n",
    "from IPython.display import display, HTML\n",
    "from torch.utils.tensorboard import SummaryWriter\n",
    "\n",
    "# Chemin vers TensorBoard\n",
    "TB_PATH = \"/tmp/logs/module-Transf\"\n",
    "\n",
    "# TENSORBOARD \n",
    "# usage externe de tensorboard: (1) lancer la commande dans une console; (2) copier-coller l'URL dans un navigateur\n",
    "display(HTML(\"<h2>Informations</h2><div>Pour visualiser les logs, tapez la commande : </div>\"))\n",
    "print(f\"tensorboard --logdir {Path(TB_PATH).absolute()}\")\n",
    "print(\"Une fois la commande lancer dans la console, copier-coller l'URL dans votre navigateur\")"
   ]
  },
  {
   "cell_type": "markdown",
   "metadata": {},
   "source": [
    "\n",
    "\n",
    "A. Chargement des données\n",
    "------------------\n",
    "\n",
    "Tout le code est fourni. Le cadre est le même que pour la classification de noms: many-to-one. La tâche est de la classification d'opinion (sentiment en anglais)\n",
    "\n"
   ]
  },
  {
   "cell_type": "code",
   "execution_count": 3,
   "metadata": {
    "collapsed": false
   },
   "outputs": [],
   "source": [
    "GLOVE_PATH = Path(\"data/glove\")\n",
    "DATASET_PATH_TRAIN = Path(\"data/aclImdb/train\")\n",
    "DATASET_PATH_TEST = Path(\"data/aclImdb/test\")\n",
    "\n",
    "NB_DOC_MAX = 12500 # par classe\n",
    "IMDB_CLASSES  = ['neg','pos']\n",
    "VOC_SIZE = 10000\n",
    "BATCH_SIZE = 32\n",
    "MAX_CHAR_SIZE = 1000\n",
    "\n",
    "\n",
    "labels = dict(zip(IMDB_CLASSES,[0,1]))\n",
    "\n",
    "def load_data(datapath, classes, max_size=None):\n",
    "    txts = []\n",
    "    files = []\n",
    "    filelabels = []\n",
    "    for label in classes:\n",
    "        c = 0\n",
    "        new = [os.path.join(datapath / label, f) for f in os.listdir(datapath / label) if f.endswith(\".txt\")]\n",
    "        files += new\n",
    "        # filelabels += [labels[label]] * len(new) \n",
    "        for file in (datapath / label).glob(\"*.txt\"):\n",
    "            t = file.read_text()\n",
    "            txts.append(t if len(t)<MAX_CHAR_SIZE else t[:MAX_CHAR_SIZE])\n",
    "            filelabels.append(labels[label])\n",
    "            c+=1\n",
    "            if max_size !=None and c>=max_size: break\n",
    "\n",
    "    return txts, files, filelabels\n",
    "    #     c+=1\n",
    "    #     if train_max_size !=None and c>train_max_size: break\n",
    "\n",
    "\n",
    "txts, files, filelabels = load_data(DATASET_PATH_TRAIN, IMDB_CLASSES, max_size = NB_DOC_MAX)\n",
    "txts_test, files_test, filelabels_test = load_data(DATASET_PATH_TEST, IMDB_CLASSES, max_size = NB_DOC_MAX)"
   ]
  },
  {
   "cell_type": "code",
   "execution_count": 4,
   "metadata": {},
   "outputs": [
    {
     "name": "stdout",
     "output_type": "stream",
     "text": [
      "data/aclImdb/train/neg/1821_4.txt\n",
      "Working with one of the best Shakespeare sources, this film manages to be creditable to it's source, whilst still appealing to a wider audience.<br /><br />Branagh steals the film from under Fishburne's nose, and there's a talented cast on good form.\n",
      "0\n",
      "25000 25000 25000\n"
     ]
    }
   ],
   "source": [
    "print(files[0])\n",
    "print(txts[0])\n",
    "print(filelabels[0])\n",
    "print(len(files),len(txts),len(filelabels))\n",
    "# labels"
   ]
  },
  {
   "cell_type": "markdown",
   "metadata": {},
   "source": [
    "## Construction du vocabulaire\n",
    "\n",
    "On introduit un *tokenizer* pour découper le texte en groupe de lettre. Ce découpage est non trivial (cf cours), on utilise un composant d'analyse venant des libs huggingface"
   ]
  },
  {
   "cell_type": "code",
   "execution_count": 5,
   "metadata": {},
   "outputs": [],
   "source": [
    "from tokenizers import Tokenizer\n",
    "from tokenizers.models import WordPiece\n",
    "from tokenizers.trainers import WordPieceTrainer\n",
    "from tokenizers.pre_tokenizers import Whitespace\n",
    "\n",
    "# Initialiser un tokenizer WordPiece\n",
    "tokenizer = Tokenizer(WordPiece(unk_token=\"[UNK]\"))\n",
    "\n",
    "# Définir les pré-traitements\n",
    "tokenizer.pre_tokenizer = Whitespace()\n",
    "\n",
    "# Créer un entraîneur avec un vocabulaire cible\n",
    "trainer = WordPieceTrainer(\n",
    "    vocab_size=VOC_SIZE,  # Limite du vocabulaire\n",
    "    special_tokens=[\"[UNK]\", \"[CLS]\", \"[SEP]\", \"[PAD]\", \"[MASK]\"]\n",
    ")"
   ]
  },
  {
   "cell_type": "code",
   "execution_count": 6,
   "metadata": {},
   "outputs": [
    {
     "name": "stdout",
     "output_type": "stream",
     "text": [
      "\n",
      "\n",
      "\n"
     ]
    }
   ],
   "source": [
    "tokenizer.train(files, trainer)"
   ]
  },
  {
   "cell_type": "code",
   "execution_count": 7,
   "metadata": {},
   "outputs": [
    {
     "name": "stdout",
     "output_type": "stream",
     "text": [
      "Tokens: ['This', 'is', 'an', 'example', '.']\n",
      "Token IDs: [528, 355, 403, 1769, 20]\n",
      "Tokens: ['Ex', '##em', '##ple', 'en', 'fra', '##n', '##c', '##ai', '##s', ',', 'lo', '##in', 'de', 'la', 'base', 'IMD', '##B']\n",
      "Token IDs: [2589, 433, 642, 499, 4872, 192, 185, 2657, 182, 18, 5948, 332, 475, 4213, 3939, 2765, 205]\n"
     ]
    }
   ],
   "source": [
    "# Exemple de tokenisation\n",
    "output = tokenizer.encode(\"This is an example.\", add_special_tokens=True)\n",
    "print(\"Tokens:\", output.tokens)\n",
    "print(\"Token IDs:\", output.ids)\n",
    "\n",
    "# Autre exemple de tokenisation avec des mots plus rares\n",
    "output = tokenizer.encode(\"Exemple en francais, loin de la base IMDB\")\n",
    "print(\"Tokens:\", output.tokens)\n",
    "print(\"Token IDs:\", output.ids)"
   ]
  },
  {
   "cell_type": "markdown",
   "metadata": {},
   "source": [
    "Récupération des indices de tokens spéciaux"
   ]
  },
  {
   "cell_type": "code",
   "execution_count": 8,
   "metadata": {},
   "outputs": [
    {
     "name": "stdout",
     "output_type": "stream",
     "text": [
      "PAD 3\n",
      "CLS 1\n",
      "EOS 20\n"
     ]
    }
   ],
   "source": [
    "PAD = tokenizer.encode(\"[PAD]\").ids[0]\n",
    "print(\"PAD\",PAD)\n",
    "\n",
    "CLS = tokenizer.encode(\"[CLS]\").ids[0]\n",
    "print(\"CLS\",CLS)\n",
    "\n",
    "EOS = tokenizer.encode(\".\").ids[0]\n",
    "print(\"EOS\", EOS)"
   ]
  },
  {
   "cell_type": "code",
   "execution_count": 9,
   "metadata": {},
   "outputs": [],
   "source": [
    "# fabrication de tous les codes (+ astuce pour ajouter les CLS)\n",
    "\n",
    "allcodes = [torch.tensor(tokenizer.encode(\"[CLS] \" + p).ids) for p in txts]\n",
    "allcodes_test = [torch.tensor(tokenizer.encode(\"[CLS] \" + p).ids) for p in txts_test]"
   ]
  },
  {
   "cell_type": "markdown",
   "metadata": {},
   "source": [
    "### Chaine de traitement\n",
    "\n",
    "1. Récupération des données avec un Dataset\n",
    "2. Construction du dataloader\n",
    "\n",
    "On se place dans une logique générative: on ne fait pas d'ensemble de test (c'est discutable)\n"
   ]
  },
  {
   "cell_type": "code",
   "execution_count": 10,
   "metadata": {},
   "outputs": [],
   "source": [
    "from torch.utils.data import Dataset, DataLoader\n",
    "import sys\n",
    "import re\n",
    "\n",
    "class TextDataset(Dataset):\n",
    "    def __init__(self, texts: list, labels):\n",
    "        self.labels = labels\n",
    "        self.phrasesnum = texts\n",
    "\n",
    "    def __len__(self):\n",
    "        return len(self.labels)\n",
    "\n",
    "    def __getitem__(self, i):\n",
    "        return self.phrasesnum[i], torch.tensor(self.labels[i])\n",
    "\n"
   ]
  },
  {
   "cell_type": "code",
   "execution_count": 11,
   "metadata": {},
   "outputs": [],
   "source": [
    "ds_train = TextDataset(allcodes,filelabels)\n",
    "ds_test  = TextDataset(allcodes_test,filelabels_test)"
   ]
  },
  {
   "cell_type": "code",
   "execution_count": 12,
   "metadata": {},
   "outputs": [
    {
     "name": "stdout",
     "output_type": "stream",
     "text": [
      "longueur: 25000\n",
      "doc 0:  (tensor([   1, 2278, 2909,  402,  454,  347,  331,  783, 4286, 5873,  182,   18,\n",
      "         381,  397, 3000,  346,  365, 3160,  563,  346,  363,   13,   89, 5873,\n",
      "          18, 5539,  827, 5490,  346,   71, 4146,  180, 1331,  417,  354,  391,\n",
      "         354,  357, 6225, 5703,  331,  397,  487,  824, 9081, 9786,  183,   13,\n",
      "          89, 7126,   18,  344,  553,   13,   89,   71, 3024,  851,  372,  531,\n",
      "        1593,   20]), tensor(0))\n",
      "doc 1:  (tensor([   1, 1418,  588, 2554, 6509,  180,  182,   47,   18,  331,  995, 2178,\n",
      "         659,  351, 7554,  344,   79, 1168,  331,  409,  979, 2402,  346,  545,\n",
      "          20, 1641,   18,  485, 4843,  342,  346,  679, 2554, 6509,  180,  182,\n",
      "        3288,  344, 7560,   20, 8703,  370,  509,   18,  883,  707, 2178,  916,\n",
      "        9539, 1000,  749,  485, 4527,  331,  680,  454,   18,   79, 1214,   18,\n",
      "        1436, 8463,  421, 4385, 1815,   18,  575, 1926, 1346,  355, 5474,  347,\n",
      "        4173,  338,  331, 2373,    8,  936,  351, 1926,  182, 1598,  550,  485,\n",
      "        2901,  970,  454,  347,  854, 7349, 1415, 4036,  335,  347,   71,  409,\n",
      "        2576, 3552, 6509,  180,  182,   47,  223, 2011,  365, 3375,   71,  621,\n",
      "         409,   18,  351,  903,  363, 2011,  365,  578, 3375,  403, 1063, 7153,\n",
      "         863,  347,   71,  621,  409,   18,  392,  363, 1768,  527,  346,  540,\n",
      "         596,  373,   20,  895,   79, 7627,  346, 1355,  912,  363,   18,   79,\n",
      "        4816,  373,  552, 1988, 2178,  346, 3103,  342,   18,  344,   79, 7251,\n",
      "        1981, 1906,  368,  373,  331,  777,  969,  487,  331, 4874,  550, 1124,\n",
      "         213,  193,  771,  331, 1153,  344,  840,  509,   20,  606,  485,  576,\n",
      "         652,  373, 4209,  338,  331,  650,  451,  573, 1500,  342,  351,  331,\n",
      "         634,  707,  527,  395,  912,  485,  463,   13,  374,  487,  331, 3249,\n",
      "        8708,  550,  679,  331,  409,   14,  402,  331, 1945,  929, 3600, 6873,\n",
      "         182,   15,  536,  794,   37, 4195,   18,   79,  550,  766, 2543, 6242,\n",
      "         381,  409,   18,   79, 1214,   18,  553,  432, 2089,  330, 2457,  346,\n",
      "        2941]), tensor(0))\n",
      "doc 2:  (tensor([   1,   53,  613,    7,  528,  454,  388,   71,  955, 3743,  346, 1355,\n",
      "         771,   20,  483,  507,   71, 3065,  344, 3287, 2661,   18,  419,  363,\n",
      "         460, 1247,  346, 2301,  487,  553,   20, 7790, 5662,  605,  355, 1088,\n",
      "        1057, 6728,  431, 7189,  344, 2148,   18,  344,  416,  607,  423, 1466,\n",
      "         351,  381,  454,   20, 1140, 3010, 1254, 4960,  188, 1268, 1653,  344,\n",
      "        1147, 1940, 5453, 2248,  351, 3715, 1961, 1501,   20, 4093, 3082,  335,\n",
      "         344, 5009,   58, 1696,   18, 2345, 1655,   18, 1193,  363,  691,  626,\n",
      "         331, 1387,   20,   47,  653,  373,   13,   89,  331,  691,  331, 1920,\n",
      "         590, 1648,   18,  344,  363,   13,   89,  999,  346, 4713,  879,   18,\n",
      "         565,  331, 1010,  344,  925,  439,  599,  452,  838, 9802,   20,  808,\n",
      "         413,   13,  374,  916,  346,  439, 7963,  723,   18,  373,   13,   89,\n",
      "        2271,   18,  419,  413, 8525,  439,  531, 2397,  346,  679,  363,  709,\n",
      "          20,  483,  892,   13,   90,  828,   20, 5026, 1167, 5220,  487,  381,\n",
      "         409,  574,  434,  460, 2203,   20]), tensor(0))\n"
     ]
    }
   ],
   "source": [
    "\n",
    "print(\"longueur:\", len(ds_train))\n",
    "print(\"doc 0: \", ds_train[0])\n",
    "print(\"doc 1: \", ds_train[1])\n",
    "print(\"doc 2: \", ds_train[2])\n",
    "\n",
    "# savez-vous retrouver les token EOS/.?"
   ]
  },
  {
   "cell_type": "code",
   "execution_count": 13,
   "metadata": {},
   "outputs": [],
   "source": [
    "from torch.nn.utils.rnn import pad_sequence\n",
    "\n",
    "\n",
    "def collate_fn(batch):\n",
    "    sequences, labels = zip(*batch)\n",
    "    lengths = [len(seq) for seq in sequences]\n",
    "    padded_sequences = pad_sequence(sequences, batch_first=False)\n",
    "    return padded_sequences, torch.tensor(lengths), torch.tensor(labels)\n",
    "\n",
    "train_loader = DataLoader(ds_train, batch_size=BATCH_SIZE, shuffle=True,  collate_fn=collate_fn)\n",
    "test_loader = DataLoader(ds_test, batch_size=BATCH_SIZE, shuffle=False, collate_fn=collate_fn)\n",
    "\n"
   ]
  },
  {
   "cell_type": "code",
   "execution_count": 14,
   "metadata": {},
   "outputs": [
    {
     "name": "stdout",
     "output_type": "stream",
     "text": [
      "Padded sequences: tensor([[   1,    1,    1,  ...,    1,    1,    1],\n",
      "        [5415,   47,   79,  ..., 5250, 1135, 5094],\n",
      "        [5565, 3637,  388,  ...,  187, 1075,  621],\n",
      "        ...,\n",
      "        [   0,    0,    0,  ...,    0,    0,    0],\n",
      "        [   0,    0,    0,  ...,    0,    0,    0],\n",
      "        [   0,    0,    0,  ...,    0,    0,    0]])\n",
      "torch.Size([286, 32])\n",
      "Labels: tensor([0, 1, 0, 0, 1, 0, 0, 1, 1, 1, 1, 1, 1, 0, 1, 0, 1, 0, 1, 1, 0, 1, 0, 1,\n",
      "        0, 1, 0, 0, 0, 1, 1, 0])\n"
     ]
    }
   ],
   "source": [
    "# Test\n",
    "\n",
    "batch =next(iter( train_loader))\n",
    "padded_sequences, lengths, labels = batch\n",
    "print(\"Padded sequences:\", padded_sequences)\n",
    "print(padded_sequences.size())\n",
    "# print(\"Lengths:\", lengths)\n",
    "print(\"Labels:\", labels)\n"
   ]
  },
  {
   "cell_type": "markdown",
   "metadata": {},
   "source": [
    "## C. Création du réseau\n",
    "\n",
    "1. Comprendre les positional embeddings\n",
    "    - prendre le temps d'afficher les dimensions et de comprendre comment ils vont être utilisés\n",
    "    - activer ou ne pas activer le gradient???\n",
    "    \n",
    "2. Construire le réseau"
   ]
  },
  {
   "cell_type": "code",
   "execution_count": 15,
   "metadata": {},
   "outputs": [],
   "source": [
    "import math\n",
    "def generate_sinusoidal_embeddings(seq_len, d_model):\n",
    "    position = torch.arange(seq_len).unsqueeze(1)\n",
    "    div_term = torch.exp(torch.arange(0, d_model, 2) * (-math.log(10000.0) / d_model))\n",
    "    pe = torch.zeros(seq_len, d_model)\n",
    "    pe[:, 0::2] = torch.sin(position * div_term)\n",
    "    pe[:, 1::2] = torch.cos(position * div_term)\n",
    "    return pe"
   ]
  },
  {
   "cell_type": "code",
   "execution_count": 16,
   "metadata": {},
   "outputs": [
    {
     "data": {
      "text/plain": [
       "<matplotlib.image.AxesImage at 0x13a0b3a10>"
      ]
     },
     "execution_count": 16,
     "metadata": {},
     "output_type": "execute_result"
    },
    {
     "data": {
      "image/png": "[encoded data removed]",
      "text/plain": [
       "<Figure size 640x480 with 1 Axes>"
      ]
     },
     "metadata": {},
     "output_type": "display_data"
    }
   ],
   "source": [
    "import matplotlib.pyplot as plt\n",
    "\n",
    "pe = generate_sinusoidal_embeddings(100, 128)\n",
    "\n",
    "plt.figure()\n",
    "plt.imshow(pe.numpy())\n"
   ]
  },
  {
   "cell_type": "code",
   "execution_count": 17,
   "metadata": {},
   "outputs": [],
   "source": [
    "\n",
    "class TransSent(nn.Module):\n",
    "    def __init__(self, emb_size, voc_size, num_layers, num_heads, hidden_size_mlp , output_size, maxlen=1000):\n",
    "        super(TransSent, self).__init__()\n",
    "\n",
    "        self.emb_size = emb_size\n",
    "\n",
    "        self.emb = nn.Embedding(voc_size, emb_size)\n",
    "        self.encoder_layer = nn.TransformerEncoderLayer(\n",
    "            d_model=emb_size, \n",
    "            nhead=num_heads, \n",
    "            dim_feedforward=hidden_size_mlp,\n",
    "            activation='relu'\n",
    "        )\n",
    "\n",
    "        # Création d'un TransformerEncoder avec plusieurs couches\n",
    "        self.trans = nn.TransformerEncoder(\n",
    "            self.encoder_layer, \n",
    "            num_layers=num_layers\n",
    "        )\n",
    "\n",
    "        # Attention, seuls les modules sont envoyés vers les devices\n",
    "        # pour envoyer automatiquement les tenseurs, il faut les \"enregistrer\"\n",
    "        self.register_buffer(\"posemb\", generate_sinusoidal_embeddings(maxlen, self.emb_size).unsqueeze(1))\n",
    "\n",
    "        # du CLS vers la classif\n",
    "        self.h2o = nn.Linear(emb_size, output_size)\n",
    "\n",
    "   \n",
    "    def forward(self, input, lengths=None):\n",
    "        # Principales étapes\n",
    "        # 1. translation of the input from int to emb\n",
    "        # 2. Passage dans le trans\n",
    "        # 3. Prediction sur le CLS\n",
    "\n",
    "        # print(\"input\", input.size())\n",
    "        maxlen = input.size(0)\n",
    "        batch_size = input.size(1)\n",
    "\n",
    "        # A analyser (et à utiliser plus tard)\n",
    "        padding_mask = (input[:, :] == PAD).T \n",
    "\n",
    "        # 1. translation of the input from int to emb + ajout des positional embeddings\n",
    "        # <CORRECTION>\n",
    "        xemb = self.emb(input) \n",
    "        # print(\"coucou\", xemb.size(),pe.size())\n",
    "        xemb += self.posemb[:maxlen,:,:]\n",
    "        # print(\"xemb\", xemb.size())\n",
    "        # </CORRECTION>\n",
    "        \n",
    "        # 2. Passage dans le transformer... Avec le masque pour le padding\n",
    "        encoded_output = self.trans(xemb, src_key_padding_mask=padding_mask)\n",
    "        # print(\"encoded_output\", encoded_output.size())\n",
    "        \n",
    "        # 3. Appliquer la classification sur le CLS\n",
    "        # <CORRECTION>\n",
    "        output = self.h2o(encoded_output[0,:,:]).squeeze(0)\n",
    "        # </CORRECTION>\n",
    "        \n",
    "        return output\n",
    "\n"
   ]
  },
  {
   "cell_type": "code",
   "execution_count": 18,
   "metadata": {},
   "outputs": [
    {
     "name": "stderr",
     "output_type": "stream",
     "text": [
      "/Users/vguigue/opt/anaconda3/envs/pyth-torch-numpy/lib/python3.11/site-packages/torch/nn/modules/transformer.py:286: UserWarning: enable_nested_tensor is True, but self.use_nested_tensor is False because encoder_layer.self_attn.batch_first was not True(use batch_first for better inference performance)\n",
      "  warnings.warn(f\"enable_nested_tensor is True, but self.use_nested_tensor is False because {why_not_sparsity_fast_path}\")\n"
     ]
    }
   ],
   "source": [
    "\n",
    "# choose hidden size\n",
    "emb_size = 128\n",
    "voc_size = VOC_SIZE\n",
    "num_layers = 1\n",
    "num_heads = 1\n",
    "hidden_size_mlp = 128\n",
    "output_size = 2\n",
    "# build network\n",
    "transf = TransSent( emb_size, voc_size, num_layers, num_heads, hidden_size_mlp , output_size)\n",
    "transf.name = \"TransSent-\"+time.asctime()"
   ]
  },
  {
   "cell_type": "code",
   "execution_count": 19,
   "metadata": {},
   "outputs": [
    {
     "name": "stdout",
     "output_type": "stream",
     "text": [
      "torch.Size([279, 32]) torch.Size([32])\n",
      "torch.Size([32, 2])\n"
     ]
    }
   ],
   "source": [
    "loss = nn.CrossEntropyLoss()\n",
    "# batch\n",
    "x, lengths, y = next(iter(train_loader))\n",
    "print(x.size(),y.size())\n",
    "\n",
    "\n",
    "yhat = transf(x)\n",
    "print(yhat.size())\n",
    "l = loss(yhat,y)"
   ]
  },
  {
   "cell_type": "markdown",
   "metadata": {},
   "source": [
    "## C. Training\n",
    "\n",
    "1. put the data into a DataLoader\n",
    "2. choose a loss function \n",
    "3. run a standard training loop"
   ]
  },
  {
   "cell_type": "code",
   "execution_count": 20,
   "metadata": {},
   "outputs": [],
   "source": [
    "# définition de la métrique d'évaluation\n",
    "def accuracy(yhat,y):\n",
    "    # y encode les indexes, s'assurer de la bonne taille de tenseur\n",
    "    assert len(y.shape)==1 or y.size(1)==1\n",
    "    return (torch.argmax(yhat,1).view(y.size(0),-1)== y.view(-1,1)).float().mean()"
   ]
  },
  {
   "cell_type": "code",
   "execution_count": 21,
   "metadata": {},
   "outputs": [],
   "source": [
    "\n",
    "    \n",
    "def train(model,epochs,train_loader,test_loader):\n",
    "    writer = SummaryWriter(f\"{TB_PATH}/{model.name}\")\n",
    "    optim = torch.optim.Adam(model.parameters(),lr=5e-4)    # choix optimizer\n",
    "    model = model.to(device)\n",
    "    print(f\"running {model.name}\")\n",
    "    loss = nn.CrossEntropyLoss()                            # choix loss\n",
    "    # \n",
    "    # loss = nn.CrossEntropyLoss(weight=cl_weight.to(device))                            # choix loss\n",
    "    for epoch in tqdm(range(epochs)):\n",
    "        cumloss, cumacc, count = 0, 0, 0\n",
    "        model.train()\n",
    "        for x, lengths, y in train_loader:                            # boucle sur les batchs\n",
    "            optim.zero_grad()\n",
    "            x,y = x.to(device), y.to(device)                # y doit être un tensor (pas un int)\n",
    "            yhat = model(x)\n",
    "            l = loss(yhat,y)\n",
    "            l.backward()\n",
    "            optim.step()\n",
    "            cumloss += l*len(x)                             # attention, il peut y avoir un batch + petit (le dernier)\n",
    "            cumacc += accuracy(yhat,y)*len(x)\n",
    "            count += len(x)\n",
    "        writer.add_scalar('loss/train',cumloss/count,epoch)\n",
    "        writer.add_scalar('accuracy/train',cumacc/count,epoch)\n",
    "        if epoch % 2 == 0:\n",
    "            model.eval()\n",
    "            with torch.no_grad():\n",
    "                cumloss, cumacc, count = 0, 0, 0\n",
    "                for x, lengths, y in test_loader:\n",
    "                    x,y = x.to(device), y.to(device)\n",
    "                    yhat = model(x)\n",
    "                    cumloss += loss(yhat,y)*len(x)\n",
    "                    cumacc += accuracy(yhat,y)*len(x)\n",
    "                    count += len(x)\n",
    "                writer.add_scalar(f'loss/test',cumloss/count,epoch)\n",
    "                writer.add_scalar('accuracy/test',cumacc/count,epoch)\n"
   ]
  },
  {
   "cell_type": "code",
   "execution_count": 22,
   "metadata": {},
   "outputs": [
    {
     "name": "stdout",
     "output_type": "stream",
     "text": [
      "running TransSent-Tue Jan 14 13:02:02 2025\n"
     ]
    },
    {
     "name": "stderr",
     "output_type": "stream",
     "text": [
      "huggingface/tokenizers: The current process just got forked, after parallelism has already been used. Disabling parallelism to avoid deadlocks...\n",
      "To disable this warning, you can either:\n",
      "\t- Avoid using `tokenizers` before the fork if possible\n",
      "\t- Explicitly set the environment variable TOKENIZERS_PARALLELISM=(true | false)\n"
     ]
    },
    {
     "data": {
      "application/vnd.jupyter.widget-view+json": {
       "model_id": "6082ff17f1f746338980484b5e5bc10b",
       "version_major": 2,
       "version_minor": 0
      },
      "text/plain": [
       "  0%|          | 0/20 [00:00<?, ?it/s]"
      ]
     },
     "metadata": {},
     "output_type": "display_data"
    }
   ],
   "source": [
    "# ~10 minutes sur CPU\n",
    "n_epoch = 20\n",
    "train(transf, n_epoch, train_loader, test_loader)\n"
   ]
  },
  {
   "cell_type": "code",
   "execution_count": 23,
   "metadata": {},
   "outputs": [],
   "source": [
    "import os\n",
    "\n",
    "def save_model(model,fichier): # pas de sauvegarde de l'optimiseur ici\n",
    "      \"\"\" sauvegarde du modèle dans fichier \"\"\"\n",
    "      state = {'model_state': model.state_dict()}\n",
    "      torch.save(state,fichier) # pas besoin de passer par pickle\n",
    " \n",
    "def load_model(fichier,model):\n",
    "      \"\"\" Si le fichier existe, on charge le modèle  \"\"\"\n",
    "      if os.path.isfile(fichier):\n",
    "          state = torch.load(fichier)\n",
    "          model.load_state_dict(state['model_state'])\n",
    "      else:\n",
    "           print(\"Erreur de chargement du fichier\")"
   ]
  },
  {
   "cell_type": "code",
   "execution_count": 24,
   "metadata": {},
   "outputs": [],
   "source": [
    "# sauvegarde du modèle\n",
    "\n",
    "path = \"./\"\n",
    "fichier = path+f\"model/{transf.name}\"\n",
    "save_model(transf.to(\"cpu\"),fichier)"
   ]
  },
  {
   "cell_type": "code",
   "execution_count": null,
   "metadata": {},
   "outputs": [],
   "source": [
    "\n",
    "# Creation de la coquille pour charger le modèle\n",
    "emb_size = 128\n",
    "voc_size = VOC_SIZE\n",
    "num_layers = 1\n",
    "num_heads = 1\n",
    "hidden_size_mlp = 128\n",
    "output_size = 2\n",
    "# build network\n",
    "transf = TransSent( emb_size, voc_size, num_layers, num_heads, hidden_size_mlp , output_size)\n",
    "\n",
    "# chargement\n",
    "path = \"./\"\n",
    "fichier = path+f\"model/TransSent-1H-1L\"\n",
    "\n",
    "load_model(fichier,transf)"
   ]
  },
  {
   "cell_type": "markdown",
   "metadata": {},
   "source": [
    "## D. Amélioration de l'architecture et analyse des résultats\n",
    "\n",
    "1. Tester l'augmentation du nombre de têtes\n",
    "2. Analyse la forme des attentions, comment trouver les mots qui contrinuent le plus au diagnostic?\n",
    "3. Utiliser TensorBoard pour visualiser les représentations de mots"
   ]
  },
  {
   "cell_type": "code",
   "execution_count": null,
   "metadata": {},
   "outputs": [],
   "source": [
    "# essais qualitatifs\n",
    "# tester le modèle sur des exemples de chaines de caractères \n",
    "# (oblige à faire la tokenisation + CLS)\n",
    "\n"
   ]
  },
  {
   "cell_type": "code",
   "execution_count": null,
   "metadata": {},
   "outputs": [],
   "source": [
    "# Afficher le texte des messages sur lesquels on fait des erreurs"
   ]
  },
  {
   "cell_type": "code",
   "execution_count": null,
   "metadata": {},
   "outputs": [],
   "source": [
    "# Afficher la matrice d'attention (ou seulement la ligne CLS) pour une entrée"
   ]
  },
  {
   "cell_type": "code",
   "execution_count": null,
   "metadata": {},
   "outputs": [],
   "source": [
    "# utiliser tensorboard pour afficher en 2D les embeddings des mots"
   ]
  },
  {
   "cell_type": "markdown",
   "metadata": {},
   "source": [
    "# Construction du sujet à partir de la correction"
   ]
  },
  {
   "cell_type": "code",
   "execution_count": 56,
   "metadata": {},
   "outputs": [],
   "source": [
    "### <CORRECTION> ###\n",
    "import re\n",
    "# transformation de cet énoncé en version étudiante\n",
    "\n",
    "fname = \"5_1_transf_classif-corr.ipynb\" # ce fichier\n",
    "fout  = fname.replace(\"-corr\",\"\")\n",
    "\n",
    "# print(\"Fichier de sortie: \", fout )\n",
    "\n",
    "f = open(fname, \"r\")\n",
    "txt = f.read()\n",
    " \n",
    "f.close()\n",
    "\n",
    "f2 = open(fout, \"w\")\n",
    "f2.write(re.sub(\"<CORRECTION>.*?(</CORRECTION>)\",\" TODO \",\\\n",
    "    txt, flags=re.DOTALL))\n",
    "f2.close()\n",
    "\n",
    "### </CORRECTION> ###"
   ]
  },
  {
   "cell_type": "code",
   "execution_count": null,
   "metadata": {},
   "outputs": [],
   "source": []
  }
 ],
 "metadata": {
  "kernelspec": {
   "display_name": "pyth-torch-numpy",
   "language": "python",
   "name": "python3"
  },
  "language_info": {
   "codemirror_mode": {
    "name": "ipython",
    "version": 3
   },
   "file_extension": ".py",
   "mimetype": "text/x-python",
   "name": "python",
   "nbconvert_exporter": "python",
   "pygments_lexer": "ipython3",
   "version": "3.11.10"
  }
 },
 "nbformat": 4,
 "nbformat_minor": 0
}
