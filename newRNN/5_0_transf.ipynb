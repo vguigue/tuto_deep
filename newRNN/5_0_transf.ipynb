{
 "cells": [
  {
   "cell_type": "markdown",
   "metadata": {},
   "source": [
    "# Prise en main des Transformer \n",
    "\n"
   ]
  },
  {
   "cell_type": "code",
   "execution_count": null,
   "metadata": {},
   "outputs": [],
   "source": [
    "# import standard + \n",
    "# \n",
    "import numpy as np\n",
    "\n",
    "import torch.nn.functional as F\n",
    "import torch\n",
    "import torch.nn as nn\n",
    "\n",
    "import os\n",
    "import time\n",
    "import logging\n",
    "import re\n",
    "# device = torch.device(\"cuda\" if torch.cuda.is_available() else \"cpu\")\n",
    "device = torch.device(\"mps\" if torch.backends.mps.is_available() else \"cpu\")\n",
    "device = \"cpu\"\n",
    "print(device)\n",
    "\n",
    "torch.manual_seed(42)"
   ]
  },
  {
   "cell_type": "code",
   "execution_count": null,
   "metadata": {},
   "outputs": [],
   "source": [
    "# Paramètres du modèle\n",
    "input_dim = 3          # Dimension des vecteurs d'entrée\n",
    "seq_length = 10        # Longueur de la séquence\n",
    "num_heads = 1          # Nombre de têtes d'attention\n",
    "hidden_dim = 6        # Dimension de la couche intermédiaire dans le feedforward\n",
    "num_layers = 1         # Nombre de couches du TransformerEncoder\n",
    "batch_size = 8         # Taille du batch\n",
    "\n",
    "# Création d'une couche TransformerEncoderLayer\n",
    "encoder_layer = nn.TransformerEncoderLayer(\n",
    "    d_model=input_dim, \n",
    "    nhead=num_heads, \n",
    "    dim_feedforward=hidden_dim,\n",
    "    activation='relu'\n",
    ")\n",
    "\n",
    "# Création d'un TransformerEncoder avec plusieurs couches\n",
    "transformer_encoder = nn.TransformerEncoder(\n",
    "    encoder_layer, \n",
    "    num_layers=num_layers\n",
    ")\n",
    "\n",
    "# Génération de données aléatoires\n",
    "data = torch.randn(seq_length, batch_size, input_dim)  # Shape: (seq_length, batch_size, input_dim)\n",
    "\n",
    "# Passer les données dans l'encodeur\n",
    "encoded_output = transformer_encoder(data)\n",
    "\n",
    "print(\"input shape:\", data.shape)\n",
    "print(\"Encoded output shape:\", encoded_output.shape)\n",
    "# print(\"Encoded output:\", encoded_output)"
   ]
  },
  {
   "cell_type": "markdown",
   "metadata": {},
   "source": [
    "### Analyse de l'évolution des embeddings\n",
    "\n",
    "Entrée vs Sortie: comme les embeddgins sont en 2D, on peut directement les tracer. Evidemment, on ne trace que pour un élément du batch (sinon, ça n'a pas de sens)\n"
   ]
  },
  {
   "cell_type": "code",
   "execution_count": null,
   "metadata": {},
   "outputs": [],
   "source": [
    "import numpy as np\n",
    "import matplotlib.pyplot as plt\n",
    "\n",
    "i = 1 # premier element\n",
    "input  = data[:,i,:].squeeze().detach().numpy()\n",
    "output = encoded_output[:,i,:].squeeze().detach().numpy()\n",
    "\n",
    "\n",
    "fig = plt.figure()\n",
    "ax = fig.add_subplot(projection='3d')\n",
    "\n",
    "for ei,eo in zip(input,output):\n",
    "    # print(ei,eo)\n",
    "    ax.scatter([ei[0], eo[0]], [ei[1], eo[1]], [ei[2], eo[2]])\n",
    "    ax.plot([ei[0], eo[0]], [ei[1], eo[1]], [ei[2], eo[2]])\n",
    "\n",
    "ax.legend(np.arange(len(input)*2)//2)"
   ]
  },
  {
   "cell_type": "code",
   "execution_count": null,
   "metadata": {},
   "outputs": [],
   "source": [
    "input"
   ]
  },
  {
   "cell_type": "markdown",
   "metadata": {},
   "source": [
    "### Analyse de la matrice d'attention"
   ]
  },
  {
   "cell_type": "code",
   "execution_count": null,
   "metadata": {},
   "outputs": [],
   "source": [
    "in_proj_weight = encoder_layer.self_attn.in_proj_weight\n",
    "in_proj_bias = encoder_layer.self_attn.in_proj_bias\n",
    "\n",
    "in_proj_weight.size()\n",
    "# data.size()"
   ]
  },
  {
   "cell_type": "code",
   "execution_count": null,
   "metadata": {},
   "outputs": [],
   "source": [
    "import math\n",
    "import torch.nn.functional as F\n",
    "\n",
    "d = in_proj_weight.size(1)\n",
    "KQV = data[:,i,:] @ in_proj_weight.T + in_proj_bias # tjs pour la seq i\n",
    "# la suite ne marche que pour une tête\n",
    "K = KQV[:,:d]\n",
    "Q = KQV[:,d:2*d]\n",
    "\n",
    "attn = F.softmax(K@Q.T/math.sqrt(d),dim=1)\n",
    "\n",
    "plt.figure()\n",
    "plt.imshow(attn.detach().numpy())\n",
    "plt.colorbar()\n",
    "\n",
    "# vérification des sommes:\n",
    "print(\"col : \", attn.sum(0))\n",
    "print(\"line : \", attn.sum(1))"
   ]
  },
  {
   "cell_type": "markdown",
   "metadata": {},
   "source": [
    "# Construction du sujet à partir de la correction"
   ]
  },
  {
   "cell_type": "code",
   "execution_count": null,
   "metadata": {},
   "outputs": [],
   "source": [
    "###  TODO )\",\" TODO \",\\\n",
    "    txt, flags=re.DOTALL))\n",
    "f2.close()\n",
    "\n",
    "### </CORRECTION> ###"
   ]
  },
  {
   "cell_type": "code",
   "execution_count": null,
   "metadata": {},
   "outputs": [],
   "source": []
  }
 ],
 "metadata": {
  "kernelspec": {
   "display_name": "pyth-torch-numpy",
   "language": "python",
   "name": "python3"
  },
  "language_info": {
   "codemirror_mode": {
    "name": "ipython",
    "version": 3
   },
   "file_extension": ".py",
   "mimetype": "text/x-python",
   "name": "python",
   "nbconvert_exporter": "python",
   "pygments_lexer": "ipython3",
   "version": "3.11.10"
  }
 },
 "nbformat": 4,
 "nbformat_minor": 2
}
